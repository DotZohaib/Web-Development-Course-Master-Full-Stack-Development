{
 "cells": [
  {
   "cell_type": "code",
   "execution_count": 11,
   "id": "01fa50a9",
   "metadata": {},
   "outputs": [
    {
     "name": "stdout",
     "output_type": "stream",
     "text": [
      "140706160862088\n",
      "140706160862088\n"
     ]
    }
   ],
   "source": [
    "a = 256\n",
    "b = 256\n",
    "\n",
    "print(id(a))\n",
    "print(id(b))"
   ]
  },
  {
   "cell_type": "code",
   "execution_count": 14,
   "id": "a568a7ba",
   "metadata": {},
   "outputs": [
    {
     "name": "stdout",
     "output_type": "stream",
     "text": [
      "140706160853736\n",
      "140706160853736\n"
     ]
    }
   ],
   "source": [
    "a = -5\n",
    "b = -5\n",
    "\n",
    "print(id(a))\n",
    "print(id(b))"
   ]
  },
  {
   "cell_type": "code",
   "execution_count": 17,
   "id": "d4a1d2d0",
   "metadata": {},
   "outputs": [
    {
     "name": "stdout",
     "output_type": "stream",
     "text": [
      "2328354468352\n",
      "2328354466496\n"
     ]
    }
   ],
   "source": [
    "arr = [1, 2]\n",
    "arr2 = [1, 2]\n",
    "\n",
    "print(id(arr))\n",
    "print(id(arr2))"
   ]
  },
  {
   "cell_type": "code",
   "execution_count": 18,
   "id": "97f3ca27",
   "metadata": {},
   "outputs": [
    {
     "name": "stdout",
     "output_type": "stream",
     "text": [
      "2328353601600\n",
      "2328353702976\n"
     ]
    }
   ],
   "source": [
    "dic =  {1: 1, 2: 2}\n",
    "dic2 = {1: 1, 2: 2}\n",
    "\n",
    "print(id(dic))\n",
    "print(id(dic2))"
   ]
  }
 ],
 "metadata": {
  "kernelspec": {
   "display_name": "Python 3",
   "language": "python",
   "name": "python3"
  },
  "language_info": {
   "codemirror_mode": {
    "name": "ipython",
    "version": 3
   },
   "file_extension": ".py",
   "mimetype": "text/x-python",
   "name": "python",
   "nbconvert_exporter": "python",
   "pygments_lexer": "ipython3",
   "version": "3.13.5"
  }
 },
 "nbformat": 4,
 "nbformat_minor": 5
}
